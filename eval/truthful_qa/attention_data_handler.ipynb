{
 "cells": [
  {
   "cell_type": "code",
   "execution_count": 12,
   "metadata": {},
   "outputs": [],
   "source": [
    "# from joblib import load\n",
    "# from tqdm import tqdm\n",
    "\n",
    "# true_prob = []\n",
    "# size = 817\n",
    "# with open('../../../../data/songda/truthful_qa/alpaca_7B_tqa_mc2_with_score.joblib', 'rb') as f:\n",
    "#     for i in tqdm(range(size)):\n",
    "#         try:\n",
    "#             data = load(f)\n",
    "#             true_prob.append(data['truth_prob'])\n",
    "#         except EOFError:\n",
    "#             break\n",
    "    \n",
    "\n",
    "\n",
    "# # Now 'data' contains the data loaded from the file\n",
    "# count = 0\n",
    "# for i in range(len(true_prob)):\n",
    "#     if true_prob[i] > 0.5:\n",
    "#         count += 1\n",
    "# print(count)\n",
    "\n",
    "\n"
   ]
  },
  {
   "cell_type": "code",
   "execution_count": 13,
   "metadata": {},
   "outputs": [
    {
     "name": "stdout",
     "output_type": "stream",
     "text": [
      "Loaded list1: 817 2.15625\n",
      "Loaded list2: 817\n",
      "46749\n"
     ]
    }
   ],
   "source": [
    "import pickle\n",
    "from sklearn.model_selection import train_test_split\n",
    "\n",
    "def load_lists(filename):\n",
    "    with open(filename, 'rb') as f:\n",
    "        list1, list2, list3 = pickle.load(f)\n",
    "    return list1, list2, list3\n",
    "\n",
    "\n",
    "loaded_list1, loaded_list2, loaded_list3 = load_lists('attention_GMM_150_1024.pkl')\n",
    "print(\"Loaded list1:\",  len(loaded_list1), len(loaded_list1[0])/32)\n",
    "print(\"Loaded list2:\", len(loaded_list2))\n",
    "\n",
    "print(sum(len(sublist) for sublist in loaded_list1))\n"
   ]
  },
  {
   "cell_type": "code",
   "execution_count": 14,
   "metadata": {},
   "outputs": [],
   "source": [
    "import pandas as pd\n",
    "import numpy as np\n",
    "\n",
    "def extract_features(arr):\n",
    "    # Feature extraction for each array\n",
    "    mean = np.mean(arr)\n",
    "    std = np.std(arr)\n",
    "    max_value = np.max(arr)\n",
    "    min_value = np.min(arr)\n",
    "    # ... add any other features you find useful\n",
    "\n",
    "    return [mean, std, max_value, min_value]\n",
    "\n",
    "# Extract features from each array and convert to pandas DataFrame\n",
    "features = np.array([extract_features(arr) for arr in loaded_list1])\n",
    "df = pd.DataFrame(features, columns=['mean', 'std', 'max', 'min'])\n",
    "df['label'] = loaded_list2"
   ]
  },
  {
   "cell_type": "code",
   "execution_count": 15,
   "metadata": {},
   "outputs": [
    {
     "name": "stdout",
     "output_type": "stream",
     "text": [
      "Test accuracy: 57.92682926829268%\n"
     ]
    }
   ],
   "source": [
    "from sklearn.model_selection import train_test_split\n",
    "from sklearn.linear_model import LogisticRegression\n",
    "from sklearn.ensemble import RandomForestClassifier\n",
    "from sklearn.metrics import accuracy_score, confusion_matrix, precision_score, recall_score, f1_score, roc_curve, auc\n",
    "\n",
    "# Split into train and test sets\n",
    "X_train, X_test, y_train, y_test = train_test_split(df.drop('label', axis=1), df['label'], test_size=0.2, random_state=42)\n",
    "\n",
    "# Initialize and train classifier\n",
    "classifier = LogisticRegression()\n",
    "classifier.fit(X_train, y_train)\n",
    "\n",
    "# Evaluate classifier\n",
    "score = classifier.score(X_test, y_test)\n",
    "print(f\"Test accuracy: {score * 100}%\")\n"
   ]
  },
  {
   "cell_type": "code",
   "execution_count": 16,
   "metadata": {},
   "outputs": [
    {
     "name": "stdout",
     "output_type": "stream",
     "text": [
      "[0 0 0 0 0 1 0 1 0 1 1 0 0 0 0 0 1 0 1 0 0 1 0 0 0 0 0 0 0 0 1 1 0 1 1 0 1\n",
      " 0 0 1 0 0 0 0 0 0 0 1 0 1 1 0 0 1 0 0 1 0 1 1 0 1 0 0 1 1 0 1 0 0 0 0 0 0\n",
      " 0 0 0 0 0 0 1 0 1 1 0 0 0 0 0 0 0 0 0 0 1 1 0 0 0 0 0 0 0 0 0 0 1 0 1 0 0\n",
      " 1 1 1 0 1 1 0 1 0 1 0 0 0 0 0 0 1 1 0 0 0 0 0 0 0 0 0 0 1 0 0 1 0 1 0 0 0\n",
      " 0 0 1 0 0 1 0 0 0 0 1 1 0 0 1 0]\n",
      "Accuracy:  0.6097560975609756\n",
      "Confusion Matrix: \n",
      "[[72 20]\n",
      " [44 28]]\n"
     ]
    }
   ],
   "source": [
    "# Creating and training a Random Forest Classifier\n",
    "classifier = RandomForestClassifier(n_estimators=100, random_state=42)\n",
    "classifier.fit(X_train, y_train)\n",
    "\n",
    "# Predicting on the testing set\n",
    "y_pred = classifier.predict(X_test)\n",
    "print(y_pred)\n",
    "print(\"Accuracy: \", accuracy_score(y_test, y_pred))\n",
    "\n",
    "# Confusion Matrix\n",
    "conf_matrix = confusion_matrix(y_test, y_pred)\n",
    "print(f'Confusion Matrix: \\n{conf_matrix}')\n",
    "\n"
   ]
  },
  {
   "cell_type": "code",
   "execution_count": 17,
   "metadata": {},
   "outputs": [
    {
     "name": "stdout",
     "output_type": "stream",
     "text": [
      "0.37 [18, 36, 74, 40, 56, 82, 2, 4, 48, 35, 70, 14, 37, 6, 87, 60, 23, 63, 67, 10, 27, 75, 20, 71, 76, 49, 28, 29, 59, 86, 13, 95, 90, 25, 53, 97, 61]\n",
      "0.18 [40, 48, 6, 60, 10, 20, 71, 76, 28, 29, 59, 86, 13, 90, 25, 53, 97, 61]\n",
      "0.12 [40, 6, 20, 76, 28, 59, 86, 90, 25, 53, 97, 61]\n",
      "0.08 [40, 76, 28, 59, 25, 53, 97, 61]\n",
      "0.08 [40, 76, 28, 59, 25, 53, 97, 61]\n"
     ]
    }
   ],
   "source": [
    "from collections import Counter\n",
    "\n",
    "def eval(list_of_arrays, list_of_results):\n",
    "    state_statics = {}\n",
    "    # Iterate over the list_of_arrays and list_of_results\n",
    "    for i in range(len(list_of_arrays)):\n",
    "        # Get the array and corresponding result\n",
    "        unique_array = set(list_of_arrays[i])\n",
    "        result = list_of_results[i]\n",
    "        for one_state in unique_array:\n",
    "            if one_state not in state_statics:\n",
    "                state_statics[one_state] = {'truth': 0, 'fake': 0}\n",
    "            if result == 1:\n",
    "                state_statics[one_state]['truth'] += 1\n",
    "            else: \n",
    "                state_statics[one_state]['fake'] += 1\n",
    "\n",
    "    fake_representation_prob = {}\n",
    "\n",
    "    for one_state in state_statics:\n",
    "        all_count = state_statics[one_state][\"truth\"] + state_statics[one_state][\"fake\"]\n",
    "        prob = state_statics[one_state][\"fake\"] * 1. / all_count\n",
    "        \n",
    "        fake_representation_prob[one_state] = prob\n",
    "    return fake_representation_prob, state_statics\n",
    "\n",
    "fake_probs, state_statics = eval(loaded_list1, loaded_list2)\n",
    "\n",
    "\n",
    "keys_greater_than_0_6 = [key for key, value in fake_probs.items() if value > 0.6]\n",
    "keys_greater_than_0_7 = [key for key, value in fake_probs.items() if value > 0.7]\n",
    "keys_greater_than_0_8 = [key for key, value in fake_probs.items() if value > 0.8]\n",
    "keys_greater_than_0_9 = [key for key, value in fake_probs.items() if value > 0.9]\n",
    "keys_equal_1 = [key for key, value in fake_probs.items() if value == 1]\n",
    "\n",
    "print(len(keys_greater_than_0_6) / 100, keys_greater_than_0_6)\n",
    "print(len(keys_greater_than_0_7) / 100, keys_greater_than_0_7)\n",
    "print(len(keys_greater_than_0_8) / 100, keys_greater_than_0_8)\n",
    "print(len(keys_greater_than_0_9) / 100, keys_greater_than_0_9)\n",
    "print(len(keys_equal_1) / 100, keys_equal_1)\n",
    "\n"
   ]
  },
  {
   "cell_type": "code",
   "execution_count": 18,
   "metadata": {},
   "outputs": [
    {
     "name": "stdout",
     "output_type": "stream",
     "text": [
      "0 1248 0.0 0.02669575819803632\n"
     ]
    }
   ],
   "source": [
    "percentage_threshold = 0.9\n",
    "all_counts = 0\n",
    "fake_counts_in_truth = 0\n",
    "fake_counts_in_fake = 0\n",
    "for i, sentence in enumerate(loaded_list1):\n",
    "    is_exist = False\n",
    "    for j in range(len(sentence)):\n",
    "        if fake_probs[sentence[j]] > percentage_threshold:\n",
    "            if loaded_list2[i] == 1:\n",
    "                fake_counts_in_truth += 1\n",
    "            else:\n",
    "                fake_counts_in_fake += 1\n",
    "        all_counts += 1\n",
    "\n",
    "        \n",
    "    # else:\n",
    "    #     print(\"============EXCEPTION============\")\n",
    "print(fake_counts_in_truth, fake_counts_in_fake, fake_counts_in_truth / all_counts, fake_counts_in_fake / all_counts)"
   ]
  },
  {
   "cell_type": "code",
   "execution_count": 19,
   "metadata": {},
   "outputs": [
    {
     "name": "stdout",
     "output_type": "stream",
     "text": [
      "ROC AUC Score: 0.7318715101323797\n"
     ]
    }
   ],
   "source": [
    "percentage_result = []\n",
    "for sentence in loaded_list1:\n",
    "    # Map the sentence tokens to their fake probabilities\n",
    "    sentence_probs = [fake_probs[token] for token in sentence]\n",
    "\n",
    "    # Calculate the mean fake probability for the sentence\n",
    "    mean_prob = sum(sentence_probs) / len(sentence_probs)\n",
    "\n",
    "    # Classify the sentence as fake if mean_prob > 0.5, true otherwise\n",
    "    percentage_result.append(mean_prob * (-1))\n",
    "\n",
    "\n",
    "# ROC AUC Score\n",
    "\n",
    "fpr, tpr, thresholds = roc_curve(loaded_list2, percentage_result)\n",
    "print(f'ROC AUC Score: {auc(fpr, tpr)}')"
   ]
  },
  {
   "cell_type": "code",
   "execution_count": 22,
   "metadata": {},
   "outputs": [
    {
     "data": {
      "image/png": "[encoded data removed]",
      "text/plain": [
       "<Figure size 640x480 with 2 Axes>"
      ]
     },
     "metadata": {},
     "output_type": "display_data"
    }
   ],
   "source": [
    "import matplotlib.pyplot as plt\n",
    "# Separating the states, truth and fake counts into separate lists\n",
    "states = list(state_statics.keys())\n",
    "truth_counts = [state_statics[state]['truth'] for state in states]\n",
    "fake_counts = [state_statics[state]['fake'] for state in states]\n",
    "\n",
    "# Creating the bar charts\n",
    "fig, axs = plt.subplots(2)\n",
    "\n",
    "# Bar chart for 'truth' counts\n",
    "axs[0].bar(states, truth_counts, color='b')\n",
    "axs[0].set_title('Truth Counts by State')\n",
    "axs[0].set_xlabel('States')\n",
    "axs[0].set_ylabel('Truth Counts')\n",
    "\n",
    "# Bar chart for 'fake' counts\n",
    "axs[1].bar(states, fake_counts, color='r')\n",
    "axs[1].set_title('Fake Counts by State')\n",
    "axs[1].set_xlabel('States')\n",
    "axs[1].set_ylabel('Fake Counts')\n",
    "\n",
    "# Automatically adjust the subplot layout\n",
    "fig.tight_layout()\n",
    "\n",
    "plt.show()"
   ]
  }
 ],
 "metadata": {
  "kernelspec": {
   "display_name": "llm_abstract",
   "language": "python",
   "name": "python3"
  },
  "language_info": {
   "codemirror_mode": {
    "name": "ipython",
    "version": 3
   },
   "file_extension": ".py",
   "mimetype": "text/x-python",
   "name": "python",
   "nbconvert_exporter": "python",
   "pygments_lexer": "ipython3",
   "version": "3.8.16"
  },
  "orig_nbformat": 4
 },
 "nbformat": 4,
 "nbformat_minor": 2
}
